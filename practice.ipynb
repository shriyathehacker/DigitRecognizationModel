{
 "cells": [
  {
   "cell_type": "code",
   "execution_count": 2,
   "id": "99740856",
   "metadata": {},
   "outputs": [
    {
     "data": {
      "text/plain": [
       "'2.19.0'"
      ]
     },
     "execution_count": 2,
     "metadata": {},
     "output_type": "execute_result"
    }
   ],
   "source": [
    "import tensorflow as tf\n",
    "\n",
    "tf.__version__"
   ]
  },
  {
   "cell_type": "markdown",
   "id": "0c1b2ea1",
   "metadata": {},
   "source": []
  },
  {
   "cell_type": "code",
   "execution_count": null,
   "id": "08b3ae0d",
   "metadata": {},
   "outputs": [],
   "source": [
    "import tensorflow as tf\n",
    "\n",
    "mnist = tf.keras.datasets.mnist\n",
    "\n",
    "(xTrain, yTrain), (xTest, yTest) = mnist.load_data()\n",
    "\n",
    "xTrain = tf.keras.utils.normalize(xTrain, axis=1)\n",
    "xTest = tf.keras.utils.normalize(xTest, axis=1)\n",
    "\n",
    "model = tf.keras.models.Sequential()\n",
    "model.add(tf.keras.layers.Flatten())\n",
    "model.add(tf.keras.layers.Dense(128, activation=tf.nn.relu))\n",
    "model.add(tf.keras.layers.Dense(128, activation=tf.nn.relu))\n",
    "model.add(tf.keras.layers.Dense(10, activation=tf.nn.softmax))\n",
    "\n",
    "model.compile(optimizer='adam', loss='sparse_categorical_crossentropy',metrics=['accuracy'])\n",
    "\n",
    "model.fit(xTrain, yTrain, epochs=3)\n"
   ]
  },
  {
   "cell_type": "code",
   "execution_count": null,
   "id": "dbfd14fd",
   "metadata": {},
   "outputs": [
    {
     "name": "stdout",
     "output_type": "stream",
     "text": [
      "313/313 [==============================] - 0s 863us/step - loss: 0.1067 - accuracy: 0.9693\n",
      "0.10666507482528687 0.9692999720573425\n"
     ]
    }
   ],
   "source": [
    "val_loss, val_acc = model.evaluate(xTest, yTest)\n",
    "print(val_loss, val_acc)"
   ]
  },
  {
   "cell_type": "code",
   "execution_count": null,
   "id": "b13e223b",
   "metadata": {},
   "outputs": [
    {
     "name": "stdout",
     "output_type": "stream",
     "text": [
      "313/313 [==============================] - 0s 774us/step\n"
     ]
    }
   ],
   "source": [
    "predictions = model.predict(xTest)"
   ]
  },
  {
   "cell_type": "code",
   "execution_count": null,
   "id": "d9add00c",
   "metadata": {},
   "outputs": [
    {
     "ename": "NameError",
     "evalue": "name 'predictions' is not defined",
     "output_type": "error",
     "traceback": [
      "\u001b[31m---------------------------------------------------------------------------\u001b[39m",
      "\u001b[31mNameError\u001b[39m                                 Traceback (most recent call last)",
      "\u001b[36mCell\u001b[39m\u001b[36m \u001b[39m\u001b[32mIn[6]\u001b[39m\u001b[32m, line 7\u001b[39m\n\u001b[32m      3\u001b[39m \u001b[38;5;28;01mfrom\u001b[39;00m\u001b[38;5;250m \u001b[39m\u001b[34;01mrandom\u001b[39;00m\u001b[38;5;250m \u001b[39m\u001b[38;5;28;01mimport\u001b[39;00m randint\n\u001b[32m      5\u001b[39m num = randint(\u001b[32m0\u001b[39m, \u001b[32m1000\u001b[39m)\n\u001b[32m----> \u001b[39m\u001b[32m7\u001b[39m a = np.argmax(\u001b[43mpredictions\u001b[49m[num])\n\u001b[32m      8\u001b[39m \u001b[38;5;28mprint\u001b[39m(\u001b[33mf\u001b[39m\u001b[33m\"\u001b[39m\u001b[38;5;132;01m{\u001b[39;00ma\u001b[38;5;132;01m}\u001b[39;00m\u001b[33m:  \u001b[39m\u001b[38;5;132;01m{\u001b[39;00mpredictions[num][a]\u001b[38;5;250m \u001b[39m*\u001b[38;5;250m \u001b[39m\u001b[32m100\u001b[39m\u001b[38;5;132;01m}\u001b[39;00m\u001b[33m, \u001b[39m\u001b[38;5;132;01m{\u001b[39;00myTest[num]\u001b[38;5;132;01m}\u001b[39;00m\u001b[33m\"\u001b[39m)\n\u001b[32m      9\u001b[39m plt.imshow(xTest[num])\n",
      "\u001b[31mNameError\u001b[39m: name 'predictions' is not defined"
     ]
    }
   ],
   "source": [
    "import numpy as np\n",
    "import matplotlib.pyplot as plt\n",
    "from random import randint\n",
    "\n",
    "num = randint(0, 1000)\n",
    "\n",
    "a = np.argmax(predictions[num])\n",
    "print(f\"{a}:  {predictions[num][a] * 100}, {yTest[num]}\")\n",
    "plt.imshow(xTest[num])\n",
    "\n",
    "plt.figure()\n",
    "plt.bar([x for x in range(0, 10)], predictions[num])\n",
    "plt.show()"
   ]
  },
  {
   "cell_type": "code",
   "execution_count": null,
   "id": "9d154aef",
   "metadata": {},
   "outputs": [
    {
     "ename": "NameError",
     "evalue": "name 'np' is not defined",
     "output_type": "error",
     "traceback": [
      "\u001b[31m---------------------------------------------------------------------------\u001b[39m",
      "\u001b[31mNameError\u001b[39m                                 Traceback (most recent call last)",
      "\u001b[36mCell\u001b[39m\u001b[36m \u001b[39m\u001b[32mIn[1]\u001b[39m\u001b[32m, line 5\u001b[39m\n\u001b[32m      3\u001b[39m img = cv2.imread(\u001b[33m\"\u001b[39m\u001b[33mDrawing.png\u001b[39m\u001b[33m\"\u001b[39m, cv2.IMREAD_GRAYSCALE)\n\u001b[32m      4\u001b[39m img = cv2.resize(img, (\u001b[32m28\u001b[39m, \u001b[32m28\u001b[39m))\n\u001b[32m----> \u001b[39m\u001b[32m5\u001b[39m img = \u001b[43mnp\u001b[49m.invert(img)\n\u001b[32m      7\u001b[39m data = np.reshape(img, (\u001b[32m1\u001b[39m, \u001b[32m28\u001b[39m, \u001b[32m28\u001b[39m))\n\u001b[32m      8\u001b[39m data = tf.keras.utils.normalize(data)\n",
      "\u001b[31mNameError\u001b[39m: name 'np' is not defined"
     ]
    }
   ],
   "source": [
    "import cv2\n",
    "\n",
    "img = cv2.imread(\"Drawing.png\", cv2.IMREAD_GRAYSCALE)\n",
    "img = cv2.resize(img, (28, 28))\n",
    "img = np.invert(img)\n",
    "\n",
    "data = np.reshape(img, (1, 28, 28))\n",
    "data = tf.keras.utils.normalize(data)\n",
    "distribution = model.predict(data)\n",
    "\n",
    "print(distribution)\n",
    "guess = np.argmax(distribution)\n",
    "\n",
    "plt.imshow(img)\n",
    "\n",
    "plt.figure()\n",
    "plt.bar([x for x in range(0, 10)], distribution[0])\n",
    "plt.show()\n",
    "\n",
    "print(f\"{guess}:  {distribution[0][guess] * 100}\")"
   ]
  }
 ],
 "metadata": {
  "kernelspec": {
   "display_name": "Python 3",
   "language": "python",
   "name": "python3"
  },
  "language_info": {
   "codemirror_mode": {
    "name": "ipython",
    "version": 3
   },
   "file_extension": ".py",
   "mimetype": "text/x-python",
   "name": "python",
   "nbconvert_exporter": "python",
   "pygments_lexer": "ipython3",
   "version": "3.11.2"
  }
 },
 "nbformat": 4,
 "nbformat_minor": 5
}
